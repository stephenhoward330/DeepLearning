{
  "nbformat": 4,
  "nbformat_minor": 0,
  "metadata": {
    "colab": {
      "name": "Lab1.ipynb",
      "provenance": [],
      "collapsed_sections": []
    },
    "kernelspec": {
      "display_name": "Python 3",
      "language": "python",
      "name": "python3"
    },
    "language_info": {
      "codemirror_mode": {
        "name": "ipython",
        "version": 3
      },
      "file_extension": ".py",
      "mimetype": "text/x-python",
      "name": "python",
      "nbconvert_exporter": "python",
      "pygments_lexer": "ipython3",
      "version": "3.6.3"
    },
    "pycharm": {
      "stem_cell": {
        "cell_type": "raw",
        "metadata": {
          "collapsed": false
        },
        "source": []
      }
    }
  },
  "cells": [
    {
      "cell_type": "markdown",
      "metadata": {
        "id": "bkj1_ftQtuBk"
      },
      "source": [
        "# Lab 1: Getting Started\n",
        "\n",
        "## Objective  \n",
        "Get started with colab and python. Begin producing simple visualizations of data and images.\n",
        "\n",
        "## Deliverable\n",
        "For this lab, you will submit a colab notebook via Learning Suite. This notebook consists of two parts.\n",
        "\n",
        "___\n",
        "\n",
        "### Grading\n",
        "Your notebook will be graded on the following:\n",
        "* 20% Successfully turning in a notebook with working code\n",
        "* 35% Random image with 50 random elements\n",
        "* 35% Image indicating tensorflow success\n",
        "* 10% Tidy and legible figures, (for the future make sure to label axes where appropriate)\n",
        "\n",
        "___\n",
        "\n",
        "### Details\n",
        "Throughout this class, we will be using Google's colab environment to \n",
        "develop and test our deep neural networks. \n",
        "This consists of ipython notebooks and a standardized python distribution. \n",
        "For this lab, you must create a google account (or use one you already have), \n",
        "start up colab, and write a simple python program in it.\n",
        "\n",
        "As described above, the notebook should do two things: \n",
        "1) generate simple random images, and \n",
        "2) display an image that you generate using the Tensorflow playground.\n",
        "\n",
        "For part 1, you can generate any sort of random image that you want – \n",
        "consider random lines, random curves, random text, etc. \n",
        "Each time the program is run, it should generate a different random image. \n",
        "Your image should have at least 50 random elements \n",
        "(they can all be the same type, such as random lines, and can be created in a loop). \n",
        "We won't count the number of elements; this is just to encourage you to create \n",
        "random images with moderate complexity (ie, you can't just generate randomly colored pixels, \n",
        "as in the example below).\n",
        "\n",
        "For part 2, you should visit the Tensorflow playground (see link above),\n",
        "and play with different settings. Most of it will be unfamiliar,\n",
        "but don't worry – you can't break it!\n",
        "\n",
        "Once you have a working classifier, take a screenshot. \n",
        "Then use your colab notebook to display that image in-line.\n",
        "___\n",
        "### Part 1\n",
        "\n",
        "Your notebook should generate a random image. We will run this notebook 5 times; it should generate 5 different, moderately complex images. Each image should be 512 x 288. Have fun with it!\n",
        "\n",
        "The resulting image could for example something like this:\n",
        "![](http://liftothers.org/dokuwiki/lib/exe/fetch.php?media=cs401r_w2016:lab1.png)\n",
        "\n",
        "**TODO:** // Here are the list of things to do for this part\n",
        "\n",
        "**DONE:** // Put items from the TODO list here when you are done with them \n",
        "\n",
        "* Generate random images that are 512 x 288\n",
        "\n",
        "(double click on the cell, cut and paste the line). This is for your benefit as well as the TAs to help with grading.\n"
      ]
    },
    {
      "cell_type": "code",
      "metadata": {
        "colab": {
          "base_uri": "https://localhost:8080/",
          "height": 305
        },
        "id": "CsWiFi74EneB",
        "pycharm": {
          "is_executing": false
        },
        "outputId": "591aec66-9696-4dac-ef81-f20f24737b98"
      },
      "source": [
        "import IPython.display\n",
        "import PIL.Image\n",
        "import numpy as np\n",
        "import random\n",
        "import cv2 as cv\n",
        "\n",
        "# A simple function to display an image in an ipython notebook\n",
        "def nbimage(data):\n",
        "    IPython.display.display(PIL.Image.fromarray(data))\n",
        "\n",
        "# create an image consisting of random colors\n",
        "\n",
        "IMG_WIDTH = 288\n",
        "IMG_HEIGHT = 512\n",
        "\n",
        "data = np.zeros((IMG_WIDTH,IMG_HEIGHT,3), np.uint8) # a 288x512 image, with 3 color channels (R,G,B)\n",
        "\n",
        "# by default, rand creates floating point numbers between [0,1].  We need to convert that to 8-bit bytes between [0,255]\n",
        "\n",
        "\n",
        "# returns a random integer between 0 and the input\n",
        "def rn(num):\n",
        "  return random.randint(0, num)\n",
        "\n",
        "# lines  cv.line(img,(0,0),(511,511),(255,0,0),5)\n",
        "for i in range(10):\n",
        "  cv.line(data,(rn(IMG_HEIGHT),rn(IMG_WIDTH)),(rn(IMG_HEIGHT),rn(IMG_WIDTH)),(rn(255),rn(255),rn(255)),random.randint(1, 4))\n",
        "\n",
        "# rectangles  cv.rectangle(img,(384,0),(510,128),(0,255,0),3)\n",
        "for i in range(10):\n",
        "  cv.rectangle(data,(rn(IMG_HEIGHT),rn(IMG_WIDTH)),(rn(IMG_HEIGHT),rn(IMG_WIDTH)),(rn(255),rn(255),rn(255)),random.randint(1, 4))\n",
        "\n",
        "# circles  cv.circle(img,(447,63), 63, (0,0,255), -1)\n",
        "for i in range(10):\n",
        "  cv.circle(data,(rn(IMG_HEIGHT),rn(IMG_WIDTH)), rn(50), (rn(255),rn(255),rn(255)), random.randint(1, 4))\n",
        "\n",
        "# ellipses  cv.ellipse(img,(256,256),(100,50),0,0,180,255,-1)\n",
        "for i in range(10):\n",
        "  cv.ellipse(data,(rn(IMG_HEIGHT),rn(IMG_WIDTH)),(rn(50),rn(50)),0,0,360,(rn(255),rn(255),rn(255)),random.randint(1, 4))\n",
        "\n",
        "# partial ellipses\n",
        "for i in range(10):\n",
        "  cv.ellipse(data,(rn(IMG_HEIGHT),rn(IMG_WIDTH)),(rn(50),rn(50)),0,rn(360),rn(360),(rn(255),rn(255),rn(255)),random.randint(1, 4))\n",
        "\n",
        "\n",
        "# display it!\n",
        "nbimage(data)"
      ],
      "execution_count": 11,
      "outputs": [
        {
          "output_type": "display_data",
          "data": {
            "image/png": "[encoded data removed]",
            "text/plain": [
              "<PIL.Image.Image image mode=RGB size=512x288 at 0x7FC068A01550>"
            ]
          },
          "metadata": {
            "tags": []
          }
        }
      ]
    },
    {
      "cell_type": "markdown",
      "metadata": {
        "id": "fM3h46ZAucnV"
      },
      "source": [
        "\n",
        "___\n",
        "\n",
        "### Part 2\n",
        "\n",
        "You must play with the Tensorflow playground neural network, and figure out how to create a classifier that successfully classifies the “spiral” dataset.\n",
        "\n",
        "\n",
        "[Tensorflow playground](http://playground.tensorflow.org/)\n",
        "\n",
        "[Google colab](http://colab.research.google.com/) The site where you will probably be coding the labs\n",
        "\n",
        "[A colab notebook teaching you how to use colab notebooks](https://colab.research.google.com/drive/1TzaPS3jvRadN-URLbQ9nD1ZNoZktfNRy)\n",
        "\n",
        "[Various colab tutorials](https://sites.google.com/site/artml2018/tutorials)\n",
        "\n",
        "**TODO:**\n",
        "\n",
        "**DONE:**\n",
        "* Create a classifier that successfully classifies the \"spiral\" dataset\n",
        "* Display the image below\n"
      ]
    },
    {
      "cell_type": "markdown",
      "metadata": {
        "id": "jBNhAh2hTMfi"
      },
      "source": [
        "[Image](https://drive.google.com/file/d/1-yPWT7stjcKdxEISHI-dVRlb_pVe1DUe/view?usp=sharing)\n"
      ]
    }
  ]
}