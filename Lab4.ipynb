{
  "nbformat": 4,
  "nbformat_minor": 0,
  "metadata": {
    "accelerator": "GPU",
    "colab": {
      "name": "Lab4.ipynb",
      "provenance": [],
      "collapsed_sections": []
    },
    "kernelspec": {
      "display_name": "Python 3",
      "language": "python",
      "name": "python3"
    },
    "language_info": {
      "codemirror_mode": {
        "name": "ipython",
        "version": 3
      },
      "file_extension": ".py",
      "mimetype": "text/x-python",
      "name": "python",
      "nbconvert_exporter": "python",
      "pygments_lexer": "ipython3",
      "version": "3.7.1"
    },
    "nteract": {
      "version": "0.28.0"
    },
    "pycharm": {
      "stem_cell": {
        "cell_type": "raw",
        "metadata": {
          "collapsed": false
        },
        "source": []
      }
    }
  },
  "cells": [
    {
      "cell_type": "markdown",
      "metadata": {
        "id": "tpnN_XZwq_vc"
      },
      "source": [
        "<a href=\"https://colab.research.google.com/github/wingated/cs474_labs_f2019/blob/master/DL_Lab4.ipynb\" target=\"_parent\"><img src=\"https://colab.research.google.com/assets/colab-badge.svg\" alt=\"Open In Colab\"/></a>"
      ]
    },
    {
      "cell_type": "markdown",
      "metadata": {
        "id": "view-in-github"
      },
      "source": [
        "# Lab 4: Cancer Detection\n",
        "\n",
        "## Objective\n",
        "* To build a dense prediction model\n",
        "* To begin reading current papers in DNN research\n",
        "\n",
        "## Deliverable\n",
        "For this lab, you will turn in a notebook that describes your efforts at creating\n",
        "a pytorch radiologist. Your final deliverable is a notebook that has (1) a deep network,\n",
        "(2) method of calculating accuracy, \n",
        "(3) images that show the dense prediction produced by your network on the pos_test_000072.png image (index 172 in the validation dataset).\n",
        "This is an image in the test set that your network will not have seen before.\n",
        "This image, and the ground truth labeling, is shown below.\n",
        "(And is contained in the downloadable dataset below). \n",
        "\n",
        "![](http://liftothers.org/dokuwiki/lib/exe/fetch.php?w=200&tok=a8ac31&media=cs501r_f2016:pos_test_000072_output.png)\n",
        "<img src=\"http://liftothers.org/dokuwiki/lib/exe/fetch.php?media=cs501r_f2016:pos_test_000072.png\" width=\"200\">\n",
        "\n",
        "\n",
        "## Grading standards\n",
        "Your notebook will be graded on the following:\n",
        "* 40% Proper design, creation and debugging of a dense prediction network\n",
        "* 20% Proper implementation of train/test set accuracy measure\n",
        "* 20% Tidy visualizations of loss of your dense predictor during training\n",
        "* 20% Test image output\n",
        "\n",
        "\n",
        "## Data set\n",
        "The data is given as a set of 1024×1024 PNG images. Each input image (in \n",
        "the ```inputs``` directory) is an RGB image of a section of tissue,\n",
        "and there a file with the same name (in the ```outputs``` directory) \n",
        "that has a dense labeling of whether or not a section of tissue is cancerous\n",
        "(white pixels mean “cancerous”, while black pixels mean “not cancerous”).\n",
        "\n",
        "The data has been pre-split for you into test and training splits.\n",
        "Filenames also reflect whether or not the image has any cancer at all \n",
        "(files starting with ```pos_``` have some cancerous pixels, while files \n",
        "starting with ```neg_``` have no cancer anywhere).\n",
        "All of the data is hand-labeled, so the dataset is not very large.\n",
        "That means that overfitting is a real possibility.\n",
        "\n",
        "## Description\n",
        "For a video including some tips and tricks that can help with this lab: [https://youtu.be/Ms19kgK_D8w](https://youtu.be/Ms19kgK_D8w)\n",
        "For this lab, you will implement a virtual radiologist.\n",
        "You are given images of possibly cancerous tissue samples, \n",
        "and you must build a detector that identifies where in the tissue cancer may reside.\n",
        "\n",
        "---\n",
        "\n",
        "### Part 0\n",
        "Watch and follow video tutorial:\n",
        "\n",
        "https://youtu.be/Ms19kgK_D8w\n",
        "\n",
        "**TODO:**\n",
        "\n",
        "**DONE:**\n",
        "\n",
        "* Watch tutorial\n",
        "\n",
        "### Part 1\n",
        "Implement a dense predictor\n",
        "\n",
        "In previous labs and lectures, we have talked about DNNs that classify an \n",
        "entire image as a single class. Here, however, we are interested in a more nuanced classification: \n",
        "given an input image, we would like to identify each pixel that is possibly cancerous. \n",
        "That means that instead of a single output, your network should output an “image”, \n",
        "where each output pixel of your network represents the probability that a pixel is cancerous.\n",
        "\n",
        "___\n",
        "\n",
        "Implement your network topology\n",
        "\n",
        "Use the “Deep Convolution U-Net” from this paper: [(U-Net: Convolutional Networks for Biomedical Image Segmentation)](https://arxiv.org/pdf/1505.04597.pdf) \n",
        "\n",
        "![(Figure 1)](https://lh3.googleusercontent.com/qnHiB3B2KRxC3NjiSDtY08_DgDGTDsHcO6PP53oNRuct-p2QXCR-gyLkDveO850F2tTAhIOPC5Ha06NP9xq1JPsVAHlQ5UXA5V-9zkUrJHGhP_MNHFoRGnjBz1vn1p8P2rMWhlAb6HQ=w2400)\n",
        "\n",
        "You should use existing pytorch functions (not your own Conv2D module), such as ```nn.Conv2d``` and ```nn.CrossEntropyLoss```;\n",
        "you will also need the pytorch function ```torch.cat``` and ```nn.ConvTranspose2d```\n",
        "\n",
        "```torch.cat``` allows you to concatenate tensors.\n",
        "```nn.ConvTranspose2d``` is the opposite of ```nn.Conv2d```.\n",
        "It is used to bring an image from low res to higher res.\n",
        "[This blog](https://towardsdatascience.com/up-sampling-with-transposed-convolution-9ae4f2df52d0) should help you understand this function in detail.\n",
        "\n",
        "You can simplify the implementation of this lab by padding the feature maps as they pass through each convolution. This will make the concatenation process easier, though this is technically a departure from the cropping technique outlined in the orginal U-Net paper. \n",
        "\n",
        "Note that the simplest network you could implement (with all the desired properties)\n",
        "is just a single convolution layer with two filters and no relu! \n",
        "Why is that? (of course it wouldn't work very well!)\n",
        "\n",
        "**TODO:**\n",
        "\n",
        "**DONE:**\n",
        "\n",
        "* Understand the U-Net architecture\n",
        "* Understand concatenation of inputs from multiple prior layers\n",
        "* Understand ConvTranspose\n",
        "* Answer Question / Reflect on simplest network with the desired properties\n",
        "\n",
        "\n",
        "___\n",
        "The intention of this lab is to learn how to make deep neural nets. We'll help you with the implementation of Dataset.\n",
        "This code will download the dataset for you so that you are ready to use it and focus on network\n",
        "implementation, losses and accuracies."
      ]
    },
    {
      "cell_type": "code",
      "metadata": {
        "colab": {
          "base_uri": "https://localhost:8080/"
        },
        "id": "wQOefmcZVgTl",
        "pycharm": {
          "is_executing": false
        },
        "outputId": "d4265bbb-17a3-42d2-de38-41ef9bde71e5"
      },
      "source": [
        "!pip3 install torch\n",
        "!pip3 install torchvision\n",
        "!pip3 install tqdm\n",
        "\n",
        "import torch\n",
        "import torch.nn as nn\n",
        "import torch.nn.functional as F\n",
        "import torch.optim as optim\n",
        "from torch.utils.data import Dataset, DataLoader\n",
        "import numpy as np\n",
        "import matplotlib.pyplot as plt\n",
        "from torchvision import transforms, utils, datasets\n",
        "from tqdm import tqdm\n",
        "from torch.nn.parameter import Parameter\n",
        "import pdb\n",
        "import torchvision\n",
        "import os\n",
        "import gzip\n",
        "import tarfile\n",
        "import gc\n",
        "from IPython.core.ultratb import AutoFormattedTB\n",
        "__ITB__ = AutoFormattedTB(mode = 'Verbose',color_scheme='LightBg', tb_offset = 1)\n",
        "\n",
        "assert torch.cuda.is_available(), \"You need to request a GPU from Runtime > Change Runtime\""
      ],
      "execution_count": 1,
      "outputs": [
        {
          "output_type": "stream",
          "text": [
            "Requirement already satisfied: torch in /usr/local/lib/python3.6/dist-packages (1.7.0+cu101)\n",
            "Requirement already satisfied: future in /usr/local/lib/python3.6/dist-packages (from torch) (0.16.0)\n",
            "Requirement already satisfied: dataclasses in /usr/local/lib/python3.6/dist-packages (from torch) (0.8)\n",
            "Requirement already satisfied: numpy in /usr/local/lib/python3.6/dist-packages (from torch) (1.19.5)\n",
            "Requirement already satisfied: typing-extensions in /usr/local/lib/python3.6/dist-packages (from torch) (3.7.4.3)\n",
            "Requirement already satisfied: torchvision in /usr/local/lib/python3.6/dist-packages (0.8.1+cu101)\n",
            "Requirement already satisfied: torch==1.7.0 in /usr/local/lib/python3.6/dist-packages (from torchvision) (1.7.0+cu101)\n",
            "Requirement already satisfied: pillow>=4.1.1 in /usr/local/lib/python3.6/dist-packages (from torchvision) (7.0.0)\n",
            "Requirement already satisfied: numpy in /usr/local/lib/python3.6/dist-packages (from torchvision) (1.19.5)\n",
            "Requirement already satisfied: future in /usr/local/lib/python3.6/dist-packages (from torch==1.7.0->torchvision) (0.16.0)\n",
            "Requirement already satisfied: typing-extensions in /usr/local/lib/python3.6/dist-packages (from torch==1.7.0->torchvision) (3.7.4.3)\n",
            "Requirement already satisfied: dataclasses in /usr/local/lib/python3.6/dist-packages (from torch==1.7.0->torchvision) (0.8)\n",
            "Requirement already satisfied: tqdm in /usr/local/lib/python3.6/dist-packages (4.41.1)\n"
          ],
          "name": "stdout"
        }
      ]
    },
    {
      "cell_type": "markdown",
      "metadata": {
        "id": "49quyvIJvTq8"
      },
      "source": [
        "WARNING: You may run into an error that says \"RuntimeError: CUDA out of memory.\"\n",
        "\n",
        "In this case, the memory required for your batch is larger than what the GPU is capable of. You can solve this problem by adjusting the image size or the batch size and then restarting the runtime. "
      ]
    },
    {
      "cell_type": "code",
      "metadata": {
        "id": "Il_53HLSWPTY"
      },
      "source": [
        "class CancerDataset(Dataset):\n",
        "  def __init__(self, root, download=True, size=512, train=True):\n",
        "    if download and not os.path.exists(os.path.join(root, 'cancer_data')):\n",
        "      datasets.utils.download_url('http://liftothers.org/cancer_data.tar.gz', root, 'cancer_data.tar.gz', None)\n",
        "      self.extract_gzip(os.path.join(root, 'cancer_data.tar.gz'))\n",
        "      self.extract_tar(os.path.join(root, 'cancer_data.tar'))\n",
        "    \n",
        "    postfix = 'train' if train else 'test'\n",
        "    root = os.path.join(root, 'cancer_data', 'cancer_data')\n",
        "    self.dataset_folder = torchvision.datasets.ImageFolder(os.path.join(root, 'inputs_' + postfix) ,transform = transforms.Compose([transforms.Resize(size),transforms.ToTensor()]))\n",
        "    self.label_folder = torchvision.datasets.ImageFolder(os.path.join(root, 'outputs_' + postfix) ,transform = transforms.Compose([transforms.Resize(size),transforms.ToTensor()]))\n",
        "\n",
        "  @staticmethod\n",
        "  def extract_gzip(gzip_path, remove_finished=False):\n",
        "    print('Extracting {}'.format(gzip_path))\n",
        "    with open(gzip_path.replace('.gz', ''), 'wb') as out_f, gzip.GzipFile(gzip_path) as zip_f:\n",
        "      out_f.write(zip_f.read())\n",
        "    if remove_finished:\n",
        "      os.unlink(gzip_path)\n",
        "  \n",
        "  @staticmethod\n",
        "  def extract_tar(tar_path):\n",
        "    print('Untarring {}'.format(tar_path))\n",
        "    z = tarfile.TarFile(tar_path)\n",
        "    z.extractall(tar_path.replace('.tar', ''))\n",
        "\n",
        "  def __getitem__(self,index):\n",
        "    img = self.dataset_folder[index]\n",
        "    label = self.label_folder[index]\n",
        "    return img[0],label[0][0]\n",
        "  \n",
        "  def __len__(self):\n",
        "    return len(self.dataset_folder)"
      ],
      "execution_count": 2,
      "outputs": []
    },
    {
      "cell_type": "code",
      "metadata": {
        "colab": {
          "base_uri": "https://localhost:8080/"
        },
        "id": "XPgrP88aOtfy",
        "outputId": "4dd58cc6-f38f-45e3-eaff-d120d326e372"
      },
      "source": [
        "# You'll probably want a function or something to test input / output sizes of the ConvTranspose2d layer\n",
        "x = torch.tensor([1, 2, 3, 4])\n",
        "print(x.size())\n",
        "x = torch.unsqueeze(x, 0)\n",
        "print(x.size())"
      ],
      "execution_count": 3,
      "outputs": [
        {
          "output_type": "stream",
          "text": [
            "torch.Size([4])\n",
            "torch.Size([1, 4])\n"
          ],
          "name": "stdout"
        }
      ]
    },
    {
      "cell_type": "code",
      "metadata": {
        "id": "jq22IyKanxo_"
      },
      "source": [
        "# Since you will be using the output of one network in two places(convolution and maxpooling),\n",
        "# you can't use nn.Sequential.\n",
        "# Instead you will write up the network like normal variable assignment as the example shown below:\n",
        "# You are welcome (and encouraged) to use the built-in batch normalization and dropout layer.\n",
        "\n",
        "# TODO: You need to change this to fit the UNet structure!!!\n",
        "class CancerDetection(nn.Module):\n",
        "  def __init__(self):\n",
        "    super(CancerDetection, self).__init__()\n",
        "    self.conv1 = nn.Conv2d(3, 64, kernel_size=3, stride=1, padding=1)\n",
        "    self.conv2 = nn.Conv2d(64, 64, kernel_size=3, stride=1, padding=1)\n",
        "    # max pool 64\n",
        "    self.max1 = nn.MaxPool2d(kernel_size=2)\n",
        "\n",
        "    self.conv3 = nn.Conv2d(64, 128, kernel_size=3, stride=1, padding=1)\n",
        "    self.conv4 = nn.Conv2d(128, 128, kernel_size=3, stride=1, padding=1)\n",
        "    # max pool 128\n",
        "    self.max2 = nn.MaxPool2d(kernel_size=2)\n",
        "\n",
        "    self.conv5 = nn.Conv2d(128, 256, kernel_size=3, stride=1, padding=1)\n",
        "    self.conv6 = nn.Conv2d(256, 256, kernel_size=3, stride=1, padding=1)\n",
        "    # max pool 256\n",
        "    self.max3 = nn.MaxPool2d(kernel_size=2)\n",
        "\n",
        "    self.conv7 = nn.Conv2d(256, 512, kernel_size=3, stride=1, padding=1)\n",
        "    self.conv8 = nn.Conv2d(512, 512, kernel_size=3, stride=1, padding=1)\n",
        "    # max pool 512\n",
        "    self.max4 = nn.MaxPool2d(kernel_size=2)\n",
        "\n",
        "    self.conv9 = nn.Conv2d(512, 1024, kernel_size=3, stride=1, padding=1)\n",
        "    self.conv10 = nn.Conv2d(1024, 1024, kernel_size=3, stride=1, padding=1)\n",
        "    # up conv 1024 -> 512 + cat\n",
        "    self.up_conv1 = nn.ConvTranspose2d(1024, 512, kernel_size=2, stride=2, padding=0)\n",
        "    # cat\n",
        "\n",
        "    self.conv11 = nn.Conv2d(1024, 512, kernel_size=3, stride=1, padding=1)\n",
        "    self.conv12 = nn.Conv2d(512, 512, kernel_size=3, stride=1, padding=1)\n",
        "    # up conv 512 -> 256 + cat\n",
        "    self.up_conv2 = nn.ConvTranspose2d(512, 256, kernel_size=2, stride=2, padding=0)\n",
        "    # cat\n",
        "\n",
        "    self.conv13 = nn.Conv2d(512, 256, kernel_size=3, stride=1, padding=1)\n",
        "    self.conv14 = nn.Conv2d(256, 256, kernel_size=3, stride=1, padding=1)\n",
        "    # up conv 256 -> 128 + cat\n",
        "    self.up_conv3 = nn.ConvTranspose2d(256, 128, kernel_size=2, stride=2, padding=0)\n",
        "    # cat\n",
        "\n",
        "    self.conv15 = nn.Conv2d(256, 128, kernel_size=3, stride=1, padding=1)\n",
        "    self.conv16 = nn.Conv2d(128, 128, kernel_size=3, stride=1, padding=1)\n",
        "    # up conv 128 -> 64 + cat\n",
        "    self.up_conv4 = nn.ConvTranspose2d(128, 64, kernel_size=2, stride=2, padding=0)\n",
        "    # cat\n",
        "\n",
        "    self.conv17 = nn.Conv2d(128, 64, kernel_size=3, stride=1, padding=1)\n",
        "    self.conv18 = nn.Conv2d(64, 64, kernel_size=3, stride=1, padding=1)\n",
        "    self.conv19 = nn.Conv2d(64, 2, kernel_size=3, stride=1, padding=1)\n",
        "\n",
        " \n",
        "  def forward(self, input):\n",
        "    # torch.cat((o1, o1), 1)\n",
        "    o1 = F.relu(self.conv1(input))\n",
        "    o2 = F.relu(self.conv2(o1))\n",
        "    o3 = self.max1(o2)\n",
        "\n",
        "    o4 = F.relu(self.conv3(o3))\n",
        "    o5 = F.relu(self.conv4(o4))\n",
        "    o6 = self.max2(o5)\n",
        "\n",
        "    o7 = F.relu(self.conv5(o6))\n",
        "    o8 = F.relu(self.conv6(o7))\n",
        "    o9 = self.max3(o8)\n",
        "\n",
        "    o10 = F.relu(self.conv7(o9))\n",
        "    o11 = F.relu(self.conv8(o10))\n",
        "    o12 = self.max4(o11)\n",
        "\n",
        "    o13 = F.relu(self.conv9(o12))\n",
        "    o14 = F.relu(self.conv10(o13))\n",
        "    o15 = self.up_conv1(o14)\n",
        "    o16 = torch.cat((o15, o11), 1)\n",
        "\n",
        "    o17 = F.relu(self.conv11(o16))\n",
        "    o18 = F.relu(self.conv12(o17))\n",
        "    o19 = self.up_conv2(o18)\n",
        "    o20 = torch.cat((o19, o8), 1)\n",
        "\n",
        "    o21 = F.relu(self.conv13(o20))\n",
        "    o22 = F.relu(self.conv14(o21))\n",
        "    o23 = self.up_conv3(o22)\n",
        "    o24 = torch.cat((o23, o5), 1)\n",
        "\n",
        "    o25 = F.relu(self.conv15(o24))\n",
        "    o26 = F.relu(self.conv16(o25))\n",
        "    o27 = self.up_conv4(o26)\n",
        "    o28 = torch.cat((o27, o2), 1)\n",
        "\n",
        "    o29 = F.relu(self.conv17(o28))\n",
        "    o30 = F.relu(self.conv18(o29))\n",
        "    o31 = self.conv19(o30)\n",
        "\n",
        "    return o31\n"
      ],
      "execution_count": 4,
      "outputs": []
    },
    {
      "cell_type": "code",
      "metadata": {
        "id": "NAjagHCdGNAh"
      },
      "source": [
        "# Create your datasets, dataloaders and neural network as you have before\n",
        "# Tip: Pass shuffle=True to constructor for training dataloader\n"
      ],
      "execution_count": 5,
      "outputs": []
    },
    {
      "cell_type": "code",
      "metadata": {
        "colab": {
          "base_uri": "https://localhost:8080/"
        },
        "id": "RkieTbwlYWPS",
        "outputId": "99ea1a63-b357-490c-fda6-1954425d48d2"
      },
      "source": [
        "# This is what was talked about in the video for memory management\n",
        "\n",
        "def scope():\n",
        "  try:\n",
        "    # your code for calling dataset and dataloader\n",
        "    train_dataset = CancerDataset(root='/tmp/mycancerdata')\n",
        "    train_loader = DataLoader(train_dataset, batch_size=2, shuffle=True, num_workers=2, pin_memory=True)\n",
        "\n",
        "    val_dataset = CancerDataset(root='/tmp/mycancerdata', train=False)\n",
        "    val_loader = DataLoader(val_dataset, batch_size=2, shuffle=True, num_workers=2, pin_memory=True)\n",
        "\n",
        "    # pdb.set_trace()\n",
        "\n",
        "    model = CancerDetection()\n",
        "    model.cuda()\n",
        "    objective = nn.CrossEntropyLoss()  # Loss()\n",
        "    optimizer = optim.Adam(model.parameters(), lr=1e-4)\n",
        "\n",
        "    gc.collect()\n",
        "    # print(torch.cuda.memory_allocated() / 1e9)\n",
        "    \n",
        "    # Call your model, figure out loss and accuracy\n",
        "\n",
        "    num_epochs = 5\n",
        "    losses = []\n",
        "    validations = []\n",
        "    train_accuracies = []\n",
        "    val_accuracies = []\n",
        "    predictions = []\n",
        "\n",
        "    for epoch in range(num_epochs):\n",
        "\n",
        "      temp_losses = []\n",
        "      temp_accuracies = []\n",
        "      loop = tqdm(total=len(train_loader), position=0, leave=False)\n",
        "\n",
        "      for batch, (x, y_truth) in enumerate(train_loader):\n",
        "        x, y_truth = x.cuda(non_blocking=True), y_truth.cuda(non_blocking=True)\n",
        "\n",
        "        optimizer.zero_grad()\n",
        "        y_hat = model(x)  # .float()  # .argmax(1)\n",
        "        # pdb.set_trace()\n",
        "\n",
        "        # 42 x 10, 42\n",
        "        loss = objective(y_hat, y_truth.long())\n",
        "\n",
        "        # one number\n",
        "        loss.backward()\n",
        "\n",
        "        temp_losses.append(loss.item())\n",
        "\n",
        "        accuracy = (y_hat.argmax(1) == y_truth).float().mean()\n",
        "        temp_accuracies.append(accuracy.item())\n",
        "        mem = torch.cuda.memory_allocated() / 1e9\n",
        "        loop.set_description('epoch:{}, loss:{:.4f}, accuracy:{:.3f}, mem:{:.2f}'.format(epoch+1, loss, accuracy, mem))\n",
        "        loop.update(1)\n",
        "\n",
        "        optimizer.step()\n",
        "\n",
        "        if batch % 50 == 0 or batch == len(train_loader)-1:\n",
        "          losses.append(np.median(temp_losses))\n",
        "          temp_losses = []\n",
        "\n",
        "          train_accuracies.append(np.mean(temp_accuracies))\n",
        "          temp_accuracies = []\n",
        "\n",
        "          val_loss = []\n",
        "          for x_val, y_val in val_loader:\n",
        "            y_hat_val = model(x_val.cuda())\n",
        "            val_loss.append(objective(y_hat_val, y_val.long().cuda()).item())\n",
        "          validations.append(np.median(val_loss))\n",
        "          val_accuracies.append((y_hat_val.argmax(1) == y_val.long().cuda()).float().mean())\n",
        "\n",
        "          # val = np.mean([objective(model(x.cuda()), y.cuda()).item() for x, y in val_loader])\n",
        "          # validations.append((len(losses), val))\n",
        "\n",
        "      loop.close()\n",
        "\n",
        "      # save out an image every epoch\n",
        "      prediction = model(torch.unsqueeze(val_dataset[172][0], 0).cuda())\n",
        "      predictions.append(prediction.cpu())\n",
        "\n",
        "    return losses, validations, train_accuracies, val_accuracies, predictions\n",
        "  except:\n",
        "    __ITB__()\n",
        "    \n",
        "losses, validations, train_accuracies, val_accuracies, predictions = scope()\n"
      ],
      "execution_count": 6,
      "outputs": [
        {
          "output_type": "stream",
          "text": [
            ""
          ],
          "name": "stderr"
        }
      ]
    },
    {
      "cell_type": "markdown",
      "metadata": {
        "id": "CZ062Jv1jIIu"
      },
      "source": [
        "\n",
        "___\n",
        "\n",
        "### Part 2\n",
        "\n",
        "Plot performance over time\n",
        "\n",
        "Please generate two plots:\n",
        "\n",
        " One that shows loss on the training and validation set as a function of training time. \n",
        "\n",
        " One that shows accuracy on the training and validation set as a function of training time. \n",
        "\n",
        " Make sure your axes are labeled!\n",
        "\n",
        "**TODO:**\n",
        "\n",
        "**DONE:**\n",
        "\n",
        "* Plot training/validation loss as function of training time (not epochs)\n",
        "* Plot training/validation accuracy as function of training time (not epochs)\n",
        "\n"
      ]
    },
    {
      "cell_type": "code",
      "metadata": {
        "colab": {
          "base_uri": "https://localhost:8080/",
          "height": 295
        },
        "id": "mTg1jyIsYVZN",
        "outputId": "ba902afa-256b-436d-97cf-50c90bc35de2"
      },
      "source": [
        "# Your plotting code here\n",
        "\n",
        "plt.plot(losses, label='train')\n",
        "plt.plot(validations, label='val')\n",
        "plt.xlabel(\"Time (Every 50 Batches)\")\n",
        "plt.ylabel(\"Loss\")\n",
        "plt.title(\"Losses Over Time\")\n",
        "plt.legend()\n",
        "plt.show()"
      ],
      "execution_count": 7,
      "outputs": [
        {
          "output_type": "display_data",
          "data": {
            "image/png": "[encoded data removed]",
            "text/plain": [
              "<Figure size 432x288 with 1 Axes>"
            ]
          },
          "metadata": {
            "tags": [],
            "needs_background": "light"
          }
        }
      ]
    },
    {
      "cell_type": "code",
      "metadata": {
        "colab": {
          "base_uri": "https://localhost:8080/",
          "height": 295
        },
        "id": "CtwLGbVyiPRS",
        "outputId": "47823e5f-9f56-4f64-b197-d0e575bb084f"
      },
      "source": [
        "plt.plot(train_accuracies, label='train')\r\n",
        "plt.plot(val_accuracies, label='val')\r\n",
        "plt.xlabel(\"Time (Every 50 Batches)\")\r\n",
        "plt.ylabel(\"Accuracy\")\r\n",
        "plt.title(\"Accuracies Over Time\")\r\n",
        "plt.legend()\r\n",
        "plt.show()"
      ],
      "execution_count": 8,
      "outputs": [
        {
          "output_type": "display_data",
          "data": {
            "image/png": "[encoded data removed]",
            "text/plain": [
              "<Figure size 432x288 with 1 Axes>"
            ]
          },
          "metadata": {
            "tags": [],
            "needs_background": "light"
          }
        }
      ]
    },
    {
      "cell_type": "markdown",
      "metadata": {
        "nteract": {
          "transient": {
            "deleting": false
          }
        },
        "id": "vysAYOclUcuR"
      },
      "source": [
        "**NOTE:**\n",
        "\n",
        "Guessing that the pixel is not cancerous every single time will give you an accuracy of ~ 85%.\n",
        "Your trained network should be able to do better than that (but you will not be graded on accuracy).\n",
        "This is the result I got after 1 hour or training.\n",
        "\n",
        "![](http://liftothers.org/dokuwiki/lib/exe/fetch.php?w=400&tok=d23e0b&media=cs501r_f2016:training_accuracy.png)\n",
        "![](http://liftothers.org/dokuwiki/lib/exe/fetch.php?w=400&tok=bb8e3c&media=cs501r_f2016:training_loss.png)"
      ]
    },
    {
      "cell_type": "markdown",
      "metadata": {
        "id": "S4s92S2_jQOG"
      },
      "source": [
        "___\n",
        "\n",
        "### Part 3\n",
        "\n",
        "Generate at least 5 predictions on the pos_test_000072.png image and display them as images. These predictions should be made at a reasonable interval (e.g. every epoch). \n",
        "\n",
        "To do this, calculate the output of your trained network on the pos_test_000072.png image,\n",
        "then make a hard decision (cancerous/not-cancerous) for each pixel.\n",
        "The resulting image should be black-and-white, where white pixels represent things\n",
        "you think are probably cancerous.\n",
        "\n",
        "**TODO:**\n",
        "\n",
        "**DONE:**\n",
        "\n"
      ]
    },
    {
      "cell_type": "code",
      "metadata": {
        "colab": {
          "base_uri": "https://localhost:8080/",
          "height": 298
        },
        "id": "XXfG3wClh8an",
        "pycharm": {
          "is_executing": false
        },
        "outputId": "c4da0d0a-0409-491e-c837-6622036fc6c6"
      },
      "source": [
        "# Code for testing prediction on an image\n",
        "pred = predictions[0]\n",
        "pred = pred.squeeze(0)\n",
        "pred = pred.argmax(0) * 255\n",
        "plt.title(\"Prediction after 1 epoch\")\n",
        "plt.imshow(pred.numpy(), cmap=plt.cm.gray)"
      ],
      "execution_count": 14,
      "outputs": [
        {
          "output_type": "execute_result",
          "data": {
            "text/plain": [
              "<matplotlib.image.AxesImage at 0x7fba710fb780>"
            ]
          },
          "metadata": {
            "tags": []
          },
          "execution_count": 14
        },
        {
          "output_type": "display_data",
          "data": {
            "image/png": "[encoded data removed]",
            "text/plain": [
              "<Figure size 432x288 with 1 Axes>"
            ]
          },
          "metadata": {
            "tags": [],
            "needs_background": "light"
          }
        }
      ]
    },
    {
      "cell_type": "code",
      "metadata": {
        "colab": {
          "base_uri": "https://localhost:8080/",
          "height": 298
        },
        "id": "vVzkmfEmqh0V",
        "outputId": "5765d75f-088e-4320-f474-4680b42f6ff4"
      },
      "source": [
        "pred = predictions[1]\r\n",
        "pred = pred.squeeze(0)\r\n",
        "pred = pred.argmax(0) * 255\r\n",
        "plt.title(\"Prediction after 2 epochs\")\r\n",
        "plt.imshow(pred.numpy(), cmap=plt.cm.gray)"
      ],
      "execution_count": 15,
      "outputs": [
        {
          "output_type": "execute_result",
          "data": {
            "text/plain": [
              "<matplotlib.image.AxesImage at 0x7fba7105c978>"
            ]
          },
          "metadata": {
            "tags": []
          },
          "execution_count": 15
        },
        {
          "output_type": "display_data",
          "data": {
            "image/png": "[encoded data removed]",
            "text/plain": [
              "<Figure size 432x288 with 1 Axes>"
            ]
          },
          "metadata": {
            "tags": [],
            "needs_background": "light"
          }
        }
      ]
    },
    {
      "cell_type": "code",
      "metadata": {
        "colab": {
          "base_uri": "https://localhost:8080/",
          "height": 298
        },
        "id": "RUzHGsR0qiT_",
        "outputId": "8da08880-7198-47d7-86af-8b87d7b3d682"
      },
      "source": [
        "pred = predictions[2]\r\n",
        "pred = pred.squeeze(0)\r\n",
        "pred = pred.argmax(0) * 255\r\n",
        "plt.title(\"Prediction after 3 epochs\")\r\n",
        "plt.imshow(pred.numpy(), cmap=plt.cm.gray)"
      ],
      "execution_count": 16,
      "outputs": [
        {
          "output_type": "execute_result",
          "data": {
            "text/plain": [
              "<matplotlib.image.AxesImage at 0x7fba70fbfb70>"
            ]
          },
          "metadata": {
            "tags": []
          },
          "execution_count": 16
        },
        {
          "output_type": "display_data",
          "data": {
            "image/png": "[encoded data removed]",
            "text/plain": [
              "<Figure size 432x288 with 1 Axes>"
            ]
          },
          "metadata": {
            "tags": [],
            "needs_background": "light"
          }
        }
      ]
    },
    {
      "cell_type": "code",
      "metadata": {
        "colab": {
          "base_uri": "https://localhost:8080/",
          "height": 298
        },
        "id": "LpSgU28XqifU",
        "outputId": "b8cf8a8d-dbbd-4bc6-c515-083ceec05484"
      },
      "source": [
        "pred = predictions[3]\r\n",
        "pred = pred.squeeze(0)\r\n",
        "pred = pred.argmax(0) * 255\r\n",
        "plt.title(\"Prediction after 4 epochs\")\r\n",
        "plt.imshow(pred.numpy(), cmap=plt.cm.gray)"
      ],
      "execution_count": 17,
      "outputs": [
        {
          "output_type": "execute_result",
          "data": {
            "text/plain": [
              "<matplotlib.image.AxesImage at 0x7fba70f9ed68>"
            ]
          },
          "metadata": {
            "tags": []
          },
          "execution_count": 17
        },
        {
          "output_type": "display_data",
          "data": {
            "image/png": "[encoded data removed]",
            "text/plain": [
              "<Figure size 432x288 with 1 Axes>"
            ]
          },
          "metadata": {
            "tags": [],
            "needs_background": "light"
          }
        }
      ]
    },
    {
      "cell_type": "code",
      "metadata": {
        "colab": {
          "base_uri": "https://localhost:8080/",
          "height": 298
        },
        "id": "17wCqJM9qin4",
        "outputId": "c57ca423-cfbe-4aa8-8fe1-5bc3505eccb4"
      },
      "source": [
        "pred = predictions[4]\r\n",
        "pred = pred.squeeze(0)\r\n",
        "pred = pred.argmax(0) * 255\r\n",
        "plt.title(\"Prediction after 5 epochs\")\r\n",
        "plt.imshow(pred.numpy(), cmap=plt.cm.gray)"
      ],
      "execution_count": 18,
      "outputs": [
        {
          "output_type": "execute_result",
          "data": {
            "text/plain": [
              "<matplotlib.image.AxesImage at 0x7fba712cbd68>"
            ]
          },
          "metadata": {
            "tags": []
          },
          "execution_count": 18
        },
        {
          "output_type": "display_data",
          "data": {
            "image/png": "[encoded data removed]",
            "text/plain": [
              "<Figure size 432x288 with 1 Axes>"
            ]
          },
          "metadata": {
            "tags": [],
            "needs_background": "light"
          }
        }
      ]
    }
  ]
}