{
  "nbformat": 4,
  "nbformat_minor": 0,
  "metadata": {
    "accelerator": "GPU",
    "colab": {
      "name": "Lab2.ipynb",
      "provenance": [],
      "collapsed_sections": []
    },
    "kernelspec": {
      "display_name": "Python 3",
      "language": "python",
      "name": "python3"
    },
    "language_info": {
      "codemirror_mode": {
        "name": "ipython",
        "version": 3
      },
      "file_extension": ".py",
      "mimetype": "text/x-python",
      "name": "python",
      "nbconvert_exporter": "python",
      "pygments_lexer": "ipython3",
      "version": "3.7.1"
    },
    "pycharm": {
      "stem_cell": {
        "cell_type": "raw",
        "metadata": {
          "collapsed": false
        },
        "source": []
      }
    }
  },
  "cells": [
    {
      "cell_type": "markdown",
      "metadata": {
        "id": "ep2DPT3H32s9"
      },
      "source": [
        "<a href=\"https://colab.research.google.com/github/wingated/cs474_labs_f2019/blob/master/DL_Lab2.ipynb\" target=\"_parent\"><img src=\"https://colab.research.google.com/assets/colab-badge.svg\" alt=\"Open In Colab\"/></a>"
      ]
    },
    {
      "cell_type": "markdown",
      "metadata": {
        "id": "view-in-github"
      },
      "source": [
        "# Lab 2: Intro to PyTorch\n",
        "\n",
        "## Deliverable\n",
        "\n",
        "For this lab, you will submit an ipython notebook via learningsuite.\n",
        "This lab will be mostly boilerplate code, but you will be required to implement a few extras.\n",
        "\n",
        "**NOTE: you almost certainly will not understand most of what's going on in this lab!\n",
        "That's ok - the point is just to get you going with pytorch.\n",
        "We'll be working on developing a deeper understanding of every part of this code\n",
        "over the course of the next two weeks.**\n",
        "\n",
        "A major goal of this lab is to help you become conversant in working through pytorch\n",
        "tutorials and documentation.\n",
        "So, you should feel free to google whatever you want and need!\n",
        "\n",
        "This notebook will have four parts:\n",
        "\n",
        "* Part 1: Your notebook should contain the boilerplate code. See below.\n",
        "\n",
        "* Part 2: Your notebook should extend the boilerplate code by adding a testing loop.\n",
        "\n",
        "* Part 3: Your notebook should extend the boilerplate code by adding a visualization of test/training performance over time.\n",
        "\n",
        "The resulting image could, for example, look like this:\n",
        "![](http://liftothers.org/dokuwiki/lib/exe/fetch.php?cache=&w=900&h=608&tok=3092fe&media=cs501r_f2018:lab2.png)\n",
        "\n",
        "* Part 4: Your notebook should contain the completed microtasks and pass all the asserts.\n",
        "\n",
        "See the assigned readings for pointers to documentation on pytorch.\n",
        "___\n",
        "\n",
        "### Grading standards:\n",
        "Your notebook will be graded on the following:\n",
        "\n",
        "* 40% Successfully followed lab video and typed in code\n",
        "* 20% Modified code to include a test/train split\n",
        "* 20% Modified code to include a visualization of train/test losses\n",
        "* 10% Tidy and legible figures, including labeled axes where appropriate\n",
        "* 10% Correct solutions to the microtasks\n",
        "___\n",
        "\n",
        "### Description\n",
        "Throughout this class, we will be using pytorch to implement our deep neural networks. \n",
        "Pytorch is a deep learning framework that handles the low-level details of \n",
        "GPU integration and automatic differentiation.\n",
        "\n",
        "The goal of this lab is to help you become familiar with pytorch. \n",
        "The four parts of the lab are outlined above.\n",
        "\n",
        "For part 1, you should watch the video below, and type in the code as it is explained to you.\n",
        "\n",
        "A more detailed outline of Part 1 is below.\n",
        "\n",
        "For part 2, you must add a validation (or testing) loop using the \n",
        "FashionMNIST dataset with train=False\n",
        "\n",
        "For part 3, you must plot the loss values.\n",
        "\n",
        "For part 4, you must complete the microtasks and pass all asserts.\n",
        "\n",
        "Optional: Demonstrate overfitting on the training data.\n",
        "\n",
        "The easiest way to do this is to limit the size of your training dataset \n",
        "so that it only returns a single batch (ie len(dataloader) == batch_size, \n",
        "and train for multiple epochs. For example,\n",
        "I set my batch size to 42, and augmented my dataloader to produce only 42 \n",
        "unique items by overwriting the len function to return 42. \n",
        "In my training loop, I performed a validation every epoch which basically corresponded \n",
        "to a validation every step.\n",
        "\n",
        "In practice, you will normally compute your validation loss every n steps, \n",
        "rather than at the end of every epoch. This is because some epochs can take hours, \n",
        "or even days and you don’t often want to wait that long to see your results.\n",
        "\n",
        "Testing your algorithm by using a single batch and training until overfitting \n",
        "is a great way of making sure that your model and optimizer are working the way they should!\n",
        "\n",
        "___\n",
        "\n",
        "### Part 0\n",
        "Watch Tutorial Video\n",
        "\n",
        "[https://youtu.be/E76hLX9WCLE](https://youtu.be/E76hLX9WCLE)\n",
        "\n",
        "**TODO:**\n",
        "* Watch video\n",
        "\n",
        "**DONE:**\n",
        "\n",
        "___\n",
        "\n",
        "### Part 1\n",
        "Your notebook should contain the boilerplate code. See below.\n",
        "\n",
        "**TODO:**\n",
        "\n",
        "* Replicate boilerplate from the video\n",
        "\n",
        "**DONE:**\n",
        "\n",
        "___\n",
        "\n",
        "### Part 2\n",
        "Your notebook should extend the boilerplate code by adding a testing loop.\n",
        "\n",
        "**TODO:**\n",
        "\n",
        "* Add a testing (validation) loop\n",
        "\n",
        "**DONE:**"
      ]
    },
    {
      "cell_type": "code",
      "metadata": {
        "id": "QClXc9i7VRyA",
        "pycharm": {
          "is_executing": false
        },
        "colab": {
          "base_uri": "https://localhost:8080/"
        },
        "outputId": "a4080496-076c-46d5-ef21-5f8342c29bce"
      },
      "source": [
        "!pip3 install torch \n",
        "!pip3 install torchvision\n",
        "!pip3 install tqdm"
      ],
      "execution_count": null,
      "outputs": [
        {
          "output_type": "stream",
          "text": [
            "Requirement already satisfied: torch in /usr/local/lib/python3.6/dist-packages (1.7.0+cu101)\n",
            "Requirement already satisfied: typing-extensions in /usr/local/lib/python3.6/dist-packages (from torch) (3.7.4.3)\n",
            "Requirement already satisfied: dataclasses in /usr/local/lib/python3.6/dist-packages (from torch) (0.8)\n",
            "Requirement already satisfied: numpy in /usr/local/lib/python3.6/dist-packages (from torch) (1.19.5)\n",
            "Requirement already satisfied: future in /usr/local/lib/python3.6/dist-packages (from torch) (0.16.0)\n",
            "Requirement already satisfied: torchvision in /usr/local/lib/python3.6/dist-packages (0.8.1+cu101)\n",
            "Requirement already satisfied: pillow>=4.1.1 in /usr/local/lib/python3.6/dist-packages (from torchvision) (7.0.0)\n",
            "Requirement already satisfied: torch==1.7.0 in /usr/local/lib/python3.6/dist-packages (from torchvision) (1.7.0+cu101)\n",
            "Requirement already satisfied: numpy in /usr/local/lib/python3.6/dist-packages (from torchvision) (1.19.5)\n",
            "Requirement already satisfied: typing-extensions in /usr/local/lib/python3.6/dist-packages (from torch==1.7.0->torchvision) (3.7.4.3)\n",
            "Requirement already satisfied: dataclasses in /usr/local/lib/python3.6/dist-packages (from torch==1.7.0->torchvision) (0.8)\n",
            "Requirement already satisfied: future in /usr/local/lib/python3.6/dist-packages (from torch==1.7.0->torchvision) (0.16.0)\n",
            "Requirement already satisfied: tqdm in /usr/local/lib/python3.6/dist-packages (4.41.1)\n"
          ],
          "name": "stdout"
        }
      ]
    },
    {
      "cell_type": "code",
      "metadata": {
        "id": "OU80yuvqVXwk",
        "pycharm": {
          "is_executing": false
        },
        "colab": {
          "base_uri": "https://localhost:8080/"
        },
        "outputId": "89490a01-15c7-4128-9116-2e9861e317c8"
      },
      "source": [
        "import torch\n",
        "import torch.nn as nn\n",
        "import torch.nn.functional as F\n",
        "import torch.optim as optim\n",
        "from torch.utils.data import Dataset, DataLoader\n",
        "import numpy as np\n",
        "import matplotlib.pyplot as plt\n",
        "from torchvision import transforms, utils, datasets\n",
        "from tqdm import tqdm\n",
        " \n",
        "assert torch.cuda.is_available() # You need to request a GPU from Runtime > Change Runtime Type\n",
        "\n",
        "# Write the boilerplate code from the video here\n",
        "\n",
        "# optimizer = optim.SGD(model.parameters(), lr=1e-4)\n",
        "# objective = torch.nn.CrossEntropyLoss()\n",
        "\n",
        "# train_losses = []\n",
        "# validation_losses = []\n",
        "\n",
        "# loop = tqdm(total=len(train_loader) * num_epochs, position=0)\n",
        "\n",
        "# num_epochs = 100\n",
        "# for epoch in range (num_epochs):\n",
        "#   # train\n",
        "#   for x, y_truth in train_loader:\n",
        "#     # learn\n",
        "#     x, y_truth = x.cuda(non_blocking=True), y_truth.cuda(non_blocking=True)\n",
        "    \n",
        "#     optimizer.zero_grad()\n",
        "\n",
        "#     y_hat = model(x)\n",
        "#     loss = objective(y_hat, y_truth)\n",
        "\n",
        "#     if epoch % 5 == 0 and batch == 0:\n",
        "#       train_losses.append(loss)\n",
        "#       validation_loss_list = []\n",
        "#       for val_x, val_y_truth in validation_loader:\n",
        "#         val_x, val_y_truth = val_x.cuda(non_blocking=True), val_y_truth.cuda(non_blocking=True)\n",
        "#         val_y_hat = model(val_x)\n",
        "#         validation_loss_list.append(objective(val_y_hat, val_y_truth))\n",
        "#       validation_losses.append((sum(validation_loss_list)/float(len(validation_loss_list))).item())\n",
        "\n",
        "#     loop.set_description('batch:{} loss:{:.4f} val_loss:{:.4f}'.format(batch, loss.item(), validation_losses[-1]))\n",
        "\n",
        "#     loss.backward()\n",
        "#     optimizer.step()\n",
        "#     batch += 1\n",
        "\n",
        "# loop.close()\n",
        "\n",
        "# Create a dataset class that extends the torch.utils.data Dataset class here\n",
        "\n",
        "class FashionMNISTProcessedDataset(Dataset):\n",
        "  def __init__(self, root, train=True):\n",
        "    self.data = datasets.FashionMNIST(root, train=train, \n",
        "                                      transform=transforms.ToTensor(), \n",
        "                                      download=True)\n",
        "    \n",
        "  def __getitem__(self, i):\n",
        "    x, y = self.data[i]\n",
        "    return x, y\n",
        "\n",
        "  def __len__(self):\n",
        "    return len(self.data)\n",
        "\n",
        "# Extend the torch.Module class to create your own neural network\n",
        "\n",
        "class LinearNetwork(nn.Module):\n",
        "  def __init__(self, dataset):\n",
        "    super(LinearNetwork, self).__init__()\n",
        "    x, y = dataset[0]\n",
        "    c, h, w = x.size()\n",
        "    out_dim = 10\n",
        "\n",
        "    self.net = nn.Sequential(nn.Linear(c * h * w, 1000),\n",
        "                              nn.ReLU(),\n",
        "                              nn.Linear(1000, out_dim))\n",
        "    \n",
        "  def forward(self, x):\n",
        "    n, c, h, w = x.size()\n",
        "    flattened = x.view(n, c*h*w)\n",
        "    return self.net(flattened)\n",
        "\n",
        "# Instantiate the train and validation sets\n",
        "\n",
        "train_dataset = FashionMNISTProcessedDataset('/tmp/fashionmnist', train=True)\n",
        "val_dataset = FashionMNISTProcessedDataset('/tmp/fashionmnist', train=False)\n",
        "\n",
        "# Instantiate your data loaders\n",
        "\n",
        "train_loader = DataLoader(train_dataset, batch_size=42, pin_memory=True)\n",
        "validation_loader = DataLoader(val_dataset, batch_size=42)\n",
        "\n",
        "# Instantiate your model and loss and optimizer functions\n",
        "\n",
        "model = LinearNetwork(train_dataset)\n",
        "model = model.cuda()\n",
        "optimizer = optim.SGD(model.parameters(), lr=1e-4)\n",
        "objective = torch.nn.CrossEntropyLoss()\n",
        "\n",
        "# Run your training / validation loops\n",
        "\n",
        "train_losses = []\n",
        "validation_losses = []\n",
        "\n",
        "num_epochs = 100\n",
        "loop = tqdm(total=len(train_loader) * num_epochs, position=0)\n",
        "\n",
        "for epoch in range (num_epochs):\n",
        "  # train\n",
        "  batch = 0\n",
        "  for x, y_truth in train_loader:\n",
        "    # learn\n",
        "    x, y_truth = x.cuda(non_blocking=True), y_truth.cuda(non_blocking=True)\n",
        "    \n",
        "    optimizer.zero_grad()\n",
        "\n",
        "    y_hat = model(x)\n",
        "    loss = objective(y_hat, y_truth)\n",
        "\n",
        "    if epoch % 5 == 0 and batch == 0:\n",
        "      train_losses.append(loss)\n",
        "      validation_loss_list = []\n",
        "      for val_x, val_y_truth in validation_loader:\n",
        "        val_x, val_y_truth = val_x.cuda(non_blocking=True), val_y_truth.cuda(non_blocking=True)\n",
        "        val_y_hat = model(val_x)\n",
        "        validation_loss_list.append(objective(val_y_hat, val_y_truth))\n",
        "      validation_losses.append((sum(validation_loss_list)/float(len(validation_loss_list))).item())\n",
        "\n",
        "    loop.set_description('epoch:{} batch:{} loss:{:.4f} val_loss:{:.4f}'.format(epoch+1, batch, loss.item(), validation_losses[-1]))\n",
        "\n",
        "    loss.backward()\n",
        "    optimizer.step()\n",
        "    batch += 1\n",
        "\n",
        "loop.close()\n"
      ],
      "execution_count": 32,
      "outputs": [
        {
          "output_type": "stream",
          "text": [
            "epoch:100 batch:1428 loss:0.6577 val_loss:0.6440:   0%|          | 0/142900 [15:24<?, ?it/s]\n"
          ],
          "name": "stderr"
        }
      ]
    },
    {
      "cell_type": "markdown",
      "metadata": {
        "id": "_IZmHOvirnFn"
      },
      "source": [
        "\n",
        "___\n",
        "\n",
        "### Part 3\n",
        "Your notebook should extend the boilerplate code by adding a visualization of test/training\n",
        "performance over time. Use matplotlib.pyplot\n",
        "\n",
        "**TODO:**\n",
        "* Add a visualization of test/train performance (i.e. loss) over time.\n",
        "\n",
        "**DONE:**\n"
      ]
    },
    {
      "cell_type": "code",
      "metadata": {
        "id": "YqYrbI5-WHb3",
        "pycharm": {
          "is_executing": false
        },
        "colab": {
          "base_uri": "https://localhost:8080/",
          "height": 279
        },
        "outputId": "9547b4eb-7b92-4b94-ba9a-175aa1539737"
      },
      "source": [
        "# Write your code to create a plot of your loss over time\r\n",
        "\r\n",
        "fig = plt.figure()\r\n",
        "ax = fig.add_subplot(111)\r\n",
        "ax.plot(range(len(validation_losses)), validation_losses, label='Validation Loss')\r\n",
        "ax.plot(range(len(train_losses)), train_losses, label='Training Loss')\r\n",
        "ax.set_xlabel(\"Time (Iterations)\")\r\n",
        "ax.set_ylabel(\"Loss\")\r\n",
        "plt.legend()\r\n",
        "plt.show()"
      ],
      "execution_count": 33,
      "outputs": [
        {
          "output_type": "display_data",
          "data": {
            "image/png": "[encoded data removed]",
            "text/plain": [
              "<Figure size 432x288 with 1 Axes>"
            ]
          },
          "metadata": {
            "tags": [],
            "needs_background": "light"
          }
        }
      ]
    },
    {
      "cell_type": "code",
      "metadata": {
        "colab": {
          "base_uri": "https://localhost:8080/"
        },
        "id": "HdBWQfDZf1TR",
        "outputId": "5df852ca-925f-41b6-ea38-2962e3d1635d"
      },
      "source": [
        "print(validation_losses)"
      ],
      "execution_count": null,
      "outputs": [
        {
          "output_type": "stream",
          "text": [
            "[2.3152573108673096, 1.8102059364318848]\n"
          ],
          "name": "stdout"
        }
      ]
    },
    {
      "cell_type": "markdown",
      "metadata": {
        "id": "0wW4QNYG4LE2"
      },
      "source": [
        "\n",
        "___\n",
        "\n",
        "### Part 4\n",
        "Complete the following microtasks to learn some important Pytorch skills. \n",
        "\n",
        "**TODO:**\n",
        "* Complete microtasks\n",
        "\n",
        "**DONE:**"
      ]
    },
    {
      "cell_type": "code",
      "metadata": {
        "id": "A9aHouhQ6cou",
        "colab": {
          "base_uri": "https://localhost:8080/"
        },
        "outputId": "829508dc-a5ef-456e-9e1d-83c824dbc25e"
      },
      "source": [
        "# Tensors are the the lifeblood of Pytorch. \n",
        "# Construct a 5x3 tensor, 'a', of zeros and of dtype long\n",
        "\n",
        "a = torch.zeros([5, 3], dtype=torch.long)\n",
        "\n",
        "print(a)\n",
        "print(a.size())\n",
        "assert a.size() == torch.Size([5, 3])\n",
        "assert type(a[0][0].item()) is int"
      ],
      "execution_count": 12,
      "outputs": [
        {
          "output_type": "stream",
          "text": [
            "tensor([[0, 0, 0],\n",
            "        [0, 0, 0],\n",
            "        [0, 0, 0],\n",
            "        [0, 0, 0],\n",
            "        [0, 0, 0]])\n",
            "torch.Size([5, 3])\n"
          ],
          "name": "stdout"
        }
      ]
    },
    {
      "cell_type": "code",
      "metadata": {
        "id": "6rfOY4HqYDTP",
        "colab": {
          "base_uri": "https://localhost:8080/"
        },
        "outputId": "6491ec1b-f97c-4915-de26-fde2c60fada8"
      },
      "source": [
        "# Many of your bugs will come from incorrect tensor dimensions. \n",
        "# Pytorch has several built-in functions to give you the control need. \n",
        "# Using only the .unsqueeze() function, turn 'a' into a 5x1x3 tensor. Hint: use the dim= argument\n",
        "\n",
        "a = torch.unsqueeze(a, dim=1)\n",
        "\n",
        "print(a.shape)\n",
        "assert a.shape == torch.Size([5, 1, 3])"
      ],
      "execution_count": 15,
      "outputs": [
        {
          "output_type": "stream",
          "text": [
            "torch.Size([5, 1, 3])\n"
          ],
          "name": "stdout"
        }
      ]
    },
    {
      "cell_type": "code",
      "metadata": {
        "id": "zY1SJ95Ekokk",
        "colab": {
          "base_uri": "https://localhost:8080/"
        },
        "outputId": "7c225960-c555-494b-8ff6-2b10dd7517d8"
      },
      "source": [
        "# Each dimension means something different. \n",
        "# You can change the order of your dimensions without losing information. \n",
        "# Reshape 'a' into a 5x3x1 tensor, using the .view() function\n",
        "\n",
        "a = a.view(5, 3, 1)\n",
        "\n",
        "print(a.shape)\n",
        "assert a.shape == torch.Size([5, 3, 1])"
      ],
      "execution_count": 16,
      "outputs": [
        {
          "output_type": "stream",
          "text": [
            "torch.Size([5, 3, 1])\n"
          ],
          "name": "stdout"
        }
      ]
    },
    {
      "cell_type": "code",
      "metadata": {
        "id": "_0Q_1vDtmaKW",
        "colab": {
          "base_uri": "https://localhost:8080/"
        },
        "outputId": "9bcece2e-a114-44f4-8a2a-3aa355910c81"
      },
      "source": [
        "# Dimensions of size 1 can sometimes be necessary for shape matching.\n",
        "# However, they can be removed without losing information. \n",
        "# Squeeze 'a' to remove dimensions of 1\n",
        "\n",
        "a = torch.squeeze(a)\n",
        "\n",
        "print(a.shape)\n",
        "assert a.size() == torch.Size([5, 3])"
      ],
      "execution_count": 17,
      "outputs": [
        {
          "output_type": "stream",
          "text": [
            "torch.Size([5, 3])\n"
          ],
          "name": "stdout"
        }
      ]
    },
    {
      "cell_type": "code",
      "metadata": {
        "id": "5miM1dYxnmSY",
        "colab": {
          "base_uri": "https://localhost:8080/"
        },
        "outputId": "d260e846-d944-4025-e3c0-31f3dcf2836b"
      },
      "source": [
        "# You can turn any tensor into a tensor of a single dimension. \n",
        "# Flatten 'a' to a single dimension\n",
        "\n",
        "a = a.flatten()\n",
        "\n",
        "print(a.size())\n",
        "assert  a.size() == torch.Size([15]) "
      ],
      "execution_count": 18,
      "outputs": [
        {
          "output_type": "stream",
          "text": [
            "torch.Size([15])\n"
          ],
          "name": "stdout"
        }
      ]
    },
    {
      "cell_type": "code",
      "metadata": {
        "id": "oxX1Ybcc7gDW",
        "colab": {
          "base_uri": "https://localhost:8080/"
        },
        "outputId": "74f48639-9b83-41bb-e7f1-c181fb4045d1"
      },
      "source": [
        "# It's easy to integrate other common python data structures. \n",
        "# Initialize a tensor, 'b', from a list\n",
        "my_list = [1,2,3,4,5]\n",
        "\n",
        "b = torch.tensor(my_list)\n",
        "\n",
        "print(b)\n",
        "assert b.size() == torch.Size([5])"
      ],
      "execution_count": 19,
      "outputs": [
        {
          "output_type": "stream",
          "text": [
            "tensor([1, 2, 3, 4, 5])\n"
          ],
          "name": "stdout"
        }
      ]
    },
    {
      "cell_type": "code",
      "metadata": {
        "id": "4XpqRqfG9DTr",
        "colab": {
          "base_uri": "https://localhost:8080/"
        },
        "outputId": "e6ec4bc6-d9cf-4c4a-93c8-b3dbd365970a"
      },
      "source": [
        "# GPUs will allow tensor operations to run much faster. \n",
        "# Assign 'a' and 'b' to run on GPU\n",
        "\n",
        "a = a.cuda()\n",
        "b = b.cuda()\n",
        "\n",
        "print(a, b)\n",
        "assert a.is_cuda and b.is_cuda"
      ],
      "execution_count": 20,
      "outputs": [
        {
          "output_type": "stream",
          "text": [
            "tensor([0, 0, 0, 0, 0, 0, 0, 0, 0, 0, 0, 0, 0, 0, 0], device='cuda:0') tensor([1, 2, 3, 4, 5], device='cuda:0')\n"
          ],
          "name": "stdout"
        }
      ]
    },
    {
      "cell_type": "code",
      "metadata": {
        "id": "FPD6NUDf7915",
        "colab": {
          "base_uri": "https://localhost:8080/"
        },
        "outputId": "7993b2d2-6621-4798-e73f-dce9b1e8c624"
      },
      "source": [
        "# You might not always have access to a GPU\n",
        "# Assign 'a' and 'b' to run on CPU\n",
        "\n",
        "a = a.cpu()\n",
        "b = b.cpu()\n",
        "\n",
        "print(a, b)\n",
        "assert not a.is_cuda and not b.is_cuda"
      ],
      "execution_count": 22,
      "outputs": [
        {
          "output_type": "stream",
          "text": [
            "tensor([0, 0, 0, 0, 0, 0, 0, 0, 0, 0, 0, 0, 0, 0, 0]) tensor([1, 2, 3, 4, 5])\n"
          ],
          "name": "stdout"
        }
      ]
    },
    {
      "cell_type": "code",
      "metadata": {
        "id": "1GMvFc2c9P_i",
        "colab": {
          "base_uri": "https://localhost:8080/"
        },
        "outputId": "3a58a2b7-f703-496e-ba1e-c833e9e2e518"
      },
      "source": [
        "# You will often want to convert tensors to numpy arrays to interact with other python libraries\n",
        "# Convert 'a' to a numpy array 'c'\n",
        "\n",
        "c = a.numpy()\n",
        "\n",
        "print(type(c))\n",
        "assert type(c) == np.ndarray"
      ],
      "execution_count": 23,
      "outputs": [
        {
          "output_type": "stream",
          "text": [
            "<class 'numpy.ndarray'>\n"
          ],
          "name": "stdout"
        }
      ]
    },
    {
      "cell_type": "code",
      "metadata": {
        "id": "EVFr_ZNgBMHL",
        "colab": {
          "base_uri": "https://localhost:8080/"
        },
        "outputId": "d7a009ac-5a56-4870-d649-1b32f4dadf5e"
      },
      "source": [
        "# To get your data back into Pytorch\n",
        "# Convert 'c' to tensor 'd'\n",
        "\n",
        "d = torch.tensor(c)\n",
        "\n",
        "print(d.type())\n",
        "assert torch.is_tensor(d)"
      ],
      "execution_count": 24,
      "outputs": [
        {
          "output_type": "stream",
          "text": [
            "torch.LongTensor\n"
          ],
          "name": "stdout"
        }
      ]
    },
    {
      "cell_type": "code",
      "metadata": {
        "id": "vf8YqcQWR62V"
      },
      "source": [
        "################################\n",
        "# COMPUTATION GRAPH MICROTASKS #\n",
        "################################"
      ],
      "execution_count": null,
      "outputs": []
    },
    {
      "cell_type": "code",
      "metadata": {
        "id": "osFFrb6IR62V",
        "colab": {
          "base_uri": "https://localhost:8080/"
        },
        "outputId": "790b014a-feb8-4c42-89eb-c0e208c2f650"
      },
      "source": [
        "# To understand how pytorch organizes the computation graph, let's walk through \n",
        "# a quick example!\n",
        "\n",
        "# 1. First, construct a tensor 'a' that contains 10 random floats. \n",
        "# This will simulate the output layer of a network. Hint: use `torch.rand`.\n",
        "\n",
        "a = torch.rand([10], dtype=float)\n",
        "\n",
        "print(a)\n",
        "assert a.size() == torch.Size([10])"
      ],
      "execution_count": 25,
      "outputs": [
        {
          "output_type": "stream",
          "text": [
            "tensor([0.0815, 0.3669, 0.7027, 0.0480, 0.3447, 0.8399, 0.3295, 0.4954, 0.2127,\n",
            "        0.6872], dtype=torch.float64)\n"
          ],
          "name": "stdout"
        }
      ]
    },
    {
      "cell_type": "code",
      "metadata": {
        "id": "EH-AMkU7R62V",
        "colab": {
          "base_uri": "https://localhost:8080/"
        },
        "outputId": "db3766ba-3496-474a-f73e-ac3f701f95da"
      },
      "source": [
        "# 2. Now turn 'a' into an `nn.Parameter` so that it be attched to the computation\n",
        "# graph.\n",
        "\n",
        "a = nn.Parameter(a)\n",
        "\n",
        "print(a)\n",
        "assert type(a) == nn.Parameter\n",
        "\n",
        "# Notice that our original tensor 'a' is nested inside of a Parameter object.\n",
        "# The Parameter object knows that it will need to comput gradients at some point.\n",
        "\n",
        "# No need to do anything here, but this assert should pass.\n",
        "assert a.requires_grad == True"
      ],
      "execution_count": 26,
      "outputs": [
        {
          "output_type": "stream",
          "text": [
            "Parameter containing:\n",
            "tensor([0.0815, 0.3669, 0.7027, 0.0480, 0.3447, 0.8399, 0.3295, 0.4954, 0.2127,\n",
            "        0.6872], dtype=torch.float64, requires_grad=True)\n"
          ],
          "name": "stdout"
        }
      ]
    },
    {
      "cell_type": "code",
      "metadata": {
        "id": "JRRlycSnR62V",
        "colab": {
          "base_uri": "https://localhost:8080/"
        },
        "outputId": "8d44e683-bde9-42f2-b2cc-e0377d51d10b"
      },
      "source": [
        "# 3. Let's run 'a' through a loss function. The output of the loss function is\n",
        "# just another tensor, but this tensor remebers what operations produced it.\n",
        "loss_fn = nn.CrossEntropyLoss()\n",
        "loss = loss_fn(a.unsqueeze(0), torch.Tensor([7]).long())\n",
        "print(loss)\n",
        "\n",
        "# Now, instruct the network to do a backward pass, by calling '.backward()' on the \n",
        "# result of the loss function. We should now be able to see the gradients that \n",
        "# were computed for 'a' w.r.t. the loss.\n",
        "\n",
        "loss.backward()\n",
        "\n",
        "assert a.grad is not None\n",
        "print(a.grad)"
      ],
      "execution_count": 27,
      "outputs": [
        {
          "output_type": "stream",
          "text": [
            "tensor(2.2507, dtype=torch.float64, grad_fn=<NllLossBackward>)\n",
            "tensor([ 0.0696,  0.0926,  0.1296,  0.0673,  0.0906,  0.1487,  0.0892, -0.8947,\n",
            "         0.0794,  0.1276], dtype=torch.float64)\n"
          ],
          "name": "stdout"
        }
      ]
    },
    {
      "cell_type": "code",
      "metadata": {
        "id": "8TTNtqUpR62W",
        "colab": {
          "base_uri": "https://localhost:8080/"
        },
        "outputId": "c556453c-4b68-43a3-b0c4-a195492be295"
      },
      "source": [
        "# 4. If we were to use 'a' in another operation, this might affect the computation graph.\n",
        "# To make sure that you are not adversly affecting the computation graph, call\n",
        "# `.detach()` on 'a' and assign the result to a new variable 'b'.\n",
        "\n",
        "b = a.detach()\n",
        "\n",
        "print(a)\n",
        "print(b)\n",
        "assert a.requires_grad == True\n",
        "assert b.requires_grad == False"
      ],
      "execution_count": 28,
      "outputs": [
        {
          "output_type": "stream",
          "text": [
            "Parameter containing:\n",
            "tensor([0.0815, 0.3669, 0.7027, 0.0480, 0.3447, 0.8399, 0.3295, 0.4954, 0.2127,\n",
            "        0.6872], dtype=torch.float64, requires_grad=True)\n",
            "tensor([0.0815, 0.3669, 0.7027, 0.0480, 0.3447, 0.8399, 0.3295, 0.4954, 0.2127,\n",
            "        0.6872], dtype=torch.float64)\n"
          ],
          "name": "stdout"
        }
      ]
    }
  ]
}