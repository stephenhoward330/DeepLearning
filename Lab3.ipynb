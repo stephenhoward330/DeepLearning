{
  "nbformat": 4,
  "nbformat_minor": 0,
  "metadata": {
    "accelerator": "GPU",
    "colab": {
      "name": "Lab3.ipynb",
      "provenance": [],
      "collapsed_sections": []
    },
    "kernelspec": {
      "display_name": "Python 3",
      "language": "python",
      "name": "python3"
    },
    "language_info": {
      "codemirror_mode": {
        "name": "ipython",
        "version": 3
      },
      "file_extension": ".py",
      "mimetype": "text/x-python",
      "name": "python",
      "nbconvert_exporter": "python",
      "pygments_lexer": "ipython3",
      "version": "3.7.1"
    },
    "pycharm": {
      "stem_cell": {
        "cell_type": "raw",
        "metadata": {
          "collapsed": false
        },
        "source": []
      }
    }
  },
  "cells": [
    {
      "cell_type": "markdown",
      "metadata": {
        "id": "EOvi-7PJyIRd"
      },
      "source": [
        "<a href=\"https://colab.research.google.com/github/wingated/cs474_labs_f2019/blob/master/DL_Lab3.ipynb\" target=\"_parent\"><img src=\"https://colab.research.google.com/assets/colab-badge.svg\" alt=\"Open In Colab\"/></a>"
      ]
    },
    {
      "cell_type": "markdown",
      "metadata": {
        "id": "view-in-github"
      },
      "source": [
        "# Lab 3: Intro to CNNs and DNNs\n",
        "\n",
        "## Objectives\n",
        "\n",
        "* Build and train a deep conv net\n",
        "* Explore and implement various initialization techniques\n",
        "* Implement a parameterized module in Pytorch\n",
        "* Use a principled loss function\n",
        "\n",
        "## Video Tutorial\n",
        "[https://youtu.be/3TAuTcx-VCc](https://youtu.be/3TAuTcx-VCc)\n",
        "\n",
        "## Deliverable\n",
        "For this lab, you will submit an ipython notebook via learningsuite.\n",
        "This is where you build your first deep neural network!\n",
        "\n",
        "For this lab, we'll be combining several different concepts that we've covered during class,\n",
        "including new layer types, initialization strategies, and an understanding of convolutions.\n",
        "\n",
        "## Grading Standards:\n",
        "* 20% Part 0: Successfully followed lab video and typed in code\n",
        "* 20% Part 1: Re-implement Conv2D and CrossEntropy loss function\n",
        "* 20% Part 2: Implement different initialization strategies\n",
        "* 10% Part 3: Print parameters, plot train/test accuracy\n",
        "* 10% Reach 85% validation accuracy from parts 1-3\n",
        "* 10% Part 4: Convolution parameters quiz\n",
        "* 10% Tidy and legible figures, including labeled axes where appropriate\n",
        "___\n",
        "\n",
        "### Part 0\n",
        "Watch and follow video tutorial:\n",
        "\n",
        "[https://youtu.be/3TAuTcx-VCc](https://youtu.be/3TAuTcx-VCc)\n",
        "\n",
        "**TODO:**\n",
        "\n",
        "**DONE:**\n",
        "\n",
        "* Watch tutorial"
      ]
    },
    {
      "cell_type": "code",
      "metadata": {
        "pycharm": {
          "name": "#%%\n"
        },
        "id": "N6aVPJIiyIRf",
        "colab": {
          "base_uri": "https://localhost:8080/"
        },
        "outputId": "1b5c0a3e-4176-49d8-eb60-4d64da671777"
      },
      "source": [
        "!pip3 install torch\n",
        "!pip3 install torchvision\n",
        "!pip3 install tqdm"
      ],
      "execution_count": 1,
      "outputs": [
        {
          "output_type": "stream",
          "text": [
            "Requirement already satisfied: torch in /usr/local/lib/python3.6/dist-packages (1.7.0+cu101)\n",
            "Requirement already satisfied: future in /usr/local/lib/python3.6/dist-packages (from torch) (0.16.0)\n",
            "Requirement already satisfied: numpy in /usr/local/lib/python3.6/dist-packages (from torch) (1.19.5)\n",
            "Requirement already satisfied: dataclasses in /usr/local/lib/python3.6/dist-packages (from torch) (0.8)\n",
            "Requirement already satisfied: typing-extensions in /usr/local/lib/python3.6/dist-packages (from torch) (3.7.4.3)\n",
            "Requirement already satisfied: torchvision in /usr/local/lib/python3.6/dist-packages (0.8.1+cu101)\n",
            "Requirement already satisfied: torch==1.7.0 in /usr/local/lib/python3.6/dist-packages (from torchvision) (1.7.0+cu101)\n",
            "Requirement already satisfied: numpy in /usr/local/lib/python3.6/dist-packages (from torchvision) (1.19.5)\n",
            "Requirement already satisfied: pillow>=4.1.1 in /usr/local/lib/python3.6/dist-packages (from torchvision) (7.0.0)\n",
            "Requirement already satisfied: future in /usr/local/lib/python3.6/dist-packages (from torch==1.7.0->torchvision) (0.16.0)\n",
            "Requirement already satisfied: dataclasses in /usr/local/lib/python3.6/dist-packages (from torch==1.7.0->torchvision) (0.8)\n",
            "Requirement already satisfied: typing-extensions in /usr/local/lib/python3.6/dist-packages (from torch==1.7.0->torchvision) (3.7.4.3)\n",
            "Requirement already satisfied: tqdm in /usr/local/lib/python3.6/dist-packages (4.41.1)\n"
          ],
          "name": "stdout"
        }
      ]
    },
    {
      "cell_type": "markdown",
      "metadata": {
        "id": "t9-JDc38yIRf"
      },
      "source": [
        ""
      ]
    },
    {
      "cell_type": "code",
      "metadata": {
        "collapsed": true,
        "id": "wQOefmcZVgTl"
      },
      "source": [
        "import torch\n",
        "import torch.nn as nn\n",
        "import torch.nn.functional as F\n",
        "import torch.optim as optim\n",
        "from torch.utils.data import Dataset, DataLoader\n",
        "import numpy as np\n",
        "import matplotlib.pyplot as plt\n",
        "from torchvision import transforms, utils, datasets\n",
        "from tqdm import tqdm\n",
        "from torch.nn.parameter import Parameter\n",
        "import pdb\n",
        "\n",
        "assert torch.cuda.is_available(), \"You need to request a GPU from Runtime > Change Runtime\""
      ],
      "execution_count": 2,
      "outputs": []
    },
    {
      "cell_type": "code",
      "metadata": {
        "collapsed": true,
        "id": "Il_53HLSWPTY"
      },
      "source": [
        "# Use the dataset class you created in lab2\n",
        "class FashionMNISTProcessedDataset(Dataset):\n",
        "  def __init__(self, root, train=True):\n",
        "    self.data = datasets.FashionMNIST(root, train=train, \n",
        "                                      transform=transforms.ToTensor(), \n",
        "                                      download=True)\n",
        "    \n",
        "  def __getitem__(self, i):\n",
        "    x, y = self.data[i]\n",
        "    return x, y\n",
        "\n",
        "  def __len__(self):\n",
        "    return len(self.data)\n"
      ],
      "execution_count": 3,
      "outputs": []
    },
    {
      "cell_type": "markdown",
      "metadata": {
        "id": "QY4owfQwm-Ni"
      },
      "source": [
        "___\n",
        "\n",
        "### Part 1\n",
        "Re-implement a Conv2D module with parameters and a CrossEntropy loss function.\n",
        "\n",
        "**TODO:**\n",
        "\n",
        "**DONE:**\n",
        "\n",
        "* CrossEntropyLoss\n",
        "* Conv2D\n",
        "___\n",
        "\n",
        "### Part 2\n",
        "Implement a few initialization strategies which can include Xe initialization\n",
        "(sometimes called Xavier), Orthogonal initialization, and uniform random.\n",
        "You can specify which strategy you want to use with a parameter. \n",
        "\n",
        "\n",
        "\n",
        "Helpful links include:\n",
        "*  [Orthogonal Initialization](https://hjweide.github.io/orthogonal-initialization-in-convolutional-layers) (or the original paper: http://arxiv.org/abs/1312.6120)\n",
        "*  http://andyljones.tumblr.com/post/110998971763/an-explanation-of-xavier-initialization\n",
        "\n",
        "**TODO:**\n",
        "\n",
        "**DONE:**\n",
        "\n",
        "* Parameterize custom Conv2D for different initilization strategies\n",
        "* Xe\n",
        "* Uniform\n",
        "* Orthogonal\n"
      ]
    },
    {
      "cell_type": "code",
      "metadata": {
        "collapsed": true,
        "id": "RkieTbwlYWPS"
      },
      "source": [
        "class CrossEntropyLoss(nn.Module):\n",
        "  # b = torch.exp(a)\n",
        "  # b.sum(1, keepdim=True)\n",
        "  def __init__(self):\n",
        "    super(CrossEntropyLoss, self).__init__()\n",
        "\n",
        "  def forward(self, y_hat, y_truth):\n",
        "    r = torch.arange(y_hat.size(0))\n",
        "    return torch.mean((y_hat[r, y_truth] * -1) + torch.logsumexp(y_hat, 1))\n",
        "\n",
        "\n",
        "class Conv2d(nn.Module):\n",
        "  def __init__(self, n_channels, out_channels, kernel_size, stride=1, padding=0, dilation=1, groups=1, bias=True, strat='uniform'):\n",
        "    self.__dict__.update(locals())\n",
        "    super(Conv2d, self).__init__()\n",
        "\n",
        "    \n",
        "    self.bias = Parameter(torch.Tensor(out_channels))\n",
        "    self.bias.data.uniform_(-1, 1)\n",
        "\n",
        "    if strat == 'uniform':\n",
        "      # (out, in, k, k)\n",
        "      self.weight = Parameter(torch.Tensor(out_channels, \n",
        "                                          n_channels, \n",
        "                                          *kernel_size))\n",
        "      \n",
        "      self.weight.data.uniform_(-1, 1)\n",
        "    elif strat == 'xe':\n",
        "      weights = np.random.normal(0, np.sqrt(2 / n_channels + out_channels), size=(out_channels, n_channels, kernel_size[0], kernel_size[1]))\n",
        "\n",
        "      self.weight = Parameter(torch.from_numpy(weights).float())\n",
        "    elif strat == 'orthogonal':\n",
        "      X = np.random.random((out_channels, n_channels * kernel_size[0] * kernel_size[1]))\n",
        "      U, _, Vt = np.linalg.svd(X, full_matrices=False)\n",
        "      np.allclose(np.dot(Vt, Vt.T), np.eye(Vt.shape[0]))\n",
        "      W = Vt.reshape((out_channels, n_channels, kernel_size[0], kernel_size[1]))\n",
        "\n",
        "      self.weight = Parameter(torch.from_numpy(W).float())\n",
        "    else:\n",
        "      raise Exception(\"invalid strat\")\n",
        "\n",
        "  def forward(self, x):\n",
        "    return F.conv2d(x, self.weight, bias=self.bias, stride=self.stride, padding=self.padding, dilation=self.dilation, groups=self.groups)\n"
      ],
      "execution_count": 25,
      "outputs": []
    },
    {
      "cell_type": "code",
      "metadata": {
        "collapsed": true,
        "id": "d4C-_v9Hm7YE"
      },
      "source": [
        "class ConvNetwork(nn.Module):\n",
        "  def __init__(self, dataset):\n",
        "    super(ConvNetwork, self).__init__()\n",
        "    x, y = dataset[0]\n",
        "    c, h, w = x.size()\n",
        "    output = 10\n",
        "\n",
        "    self.net = nn.Sequential(\n",
        "        Conv2d(c, 9, (3, 3), padding=(1,1), strat='orthogonal'),\n",
        "        nn.ReLU(),\n",
        "        Conv2d(9, 81, (3, 3), padding=(1,1), strat='orthogonal'),\n",
        "        nn.ReLU(),\n",
        "        Conv2d(81, 243, (3, 3), padding=(1,1), strat='orthogonal'),\n",
        "        nn.ReLU(),\n",
        "        Conv2d(243, 243, (3, 3), padding=(1,1), strat='orthogonal'),\n",
        "        nn.ReLU(),\n",
        "        Conv2d(243, 81, (3, 3), padding=(1,1), strat='orthogonal'),\n",
        "        nn.ReLU(),\n",
        "        Conv2d(81, 81, (3, 3), padding=(1,1), strat='orthogonal'),\n",
        "        nn.ReLU(),\n",
        "        Conv2d(81, 9, (3, 3), padding=(1,1), strat='orthogonal'),\n",
        "        nn.ReLU(),\n",
        "        Conv2d(9, output, (28, 28), padding=(0,0), strat='orthogonal')\n",
        "    )\n",
        "\n",
        "  def forward(self, x):\n",
        "    return self.net(x).squeeze(2).squeeze(2)\n"
      ],
      "execution_count": 26,
      "outputs": []
    },
    {
      "cell_type": "code",
      "metadata": {
        "id": "jYqywck8Wdm9",
        "pycharm": {
          "is_executing": false
        }
      },
      "source": [
        "# Initialize Datasets\n",
        "train_dataset = FashionMNISTProcessedDataset('/tmp/fashionmnist')\n",
        "val_dataset = FashionMNISTProcessedDataset('tmp/fashionmnist', train=False)\n",
        "\n",
        "# Initialize DataLoaders\n",
        "train_loader = DataLoader(train_dataset,\n",
        "                          batch_size=42,\n",
        "                          pin_memory=True)\n",
        "val_loader = DataLoader(val_dataset,\n",
        "                        batch_size=42,\n",
        "                        pin_memory=True)\n",
        "\n",
        "# Initialize Model\n",
        "model = ConvNetwork(train_dataset)\n",
        "model = model.cuda()\n",
        "\n",
        "# Initialize Objective and Optimizer and other parameters\n",
        "objective = CrossEntropyLoss()\n",
        "optimizer = optim.Adam(model.parameters(), lr=1e-4)"
      ],
      "execution_count": 27,
      "outputs": []
    },
    {
      "cell_type": "code",
      "metadata": {
        "collapsed": true,
        "id": "mTg1jyIsYVZN",
        "pycharm": {
          "is_executing": false
        },
        "colab": {
          "base_uri": "https://localhost:8080/",
          "height": 295
        },
        "outputId": "dc11b69f-d7aa-438c-9142-aecc46dea743"
      },
      "source": [
        "# Run your training and validation loop and collect stats\n",
        "losses = []\n",
        "validations = []\n",
        "train_accuracies = []\n",
        "val_accuracies = []\n",
        "\n",
        "for epoch in range(4):\n",
        "\n",
        "  temp_losses = []\n",
        "  temp_accuracies = []\n",
        "  loop = tqdm(total=len(train_loader), position=0, leave=False)\n",
        "\n",
        "  for batch, (x, y_truth) in enumerate(train_loader):\n",
        "    x, y_truth = x.cuda(non_blocking=True), y_truth.cuda(non_blocking=True)\n",
        "\n",
        "    optimizer.zero_grad()\n",
        "    y_hat = model(x)\n",
        "\n",
        "    # 42 x 10, 42\n",
        "    loss = objective(y_hat, y_truth)\n",
        "\n",
        "    # pdb.set_trace()\n",
        "\n",
        "    # one number\n",
        "    loss.backward()\n",
        "\n",
        "    temp_losses.append(loss.item())\n",
        "\n",
        "    accuracy = (y_hat.argmax(1) == y_truth).float().mean()\n",
        "    temp_accuracies.append(accuracy.item())\n",
        "\n",
        "    loop.set_description('epoch:{}, loss:{:.4f}, accuracy:{:.3f}'.format(epoch+1, loss, accuracy))\n",
        "    loop.update(1)\n",
        "\n",
        "    optimizer.step()\n",
        "\n",
        "    if batch % 100 == 0:\n",
        "      losses.append(np.mean(temp_losses))\n",
        "      temp_losses = []\n",
        "\n",
        "      train_accuracies.append(np.mean(temp_accuracies))\n",
        "      temp_accuracies = []\n",
        "\n",
        "      total_val_loss = 0\n",
        "      for x, y in val_loader:\n",
        "        y_hat_val = model(x.cuda())\n",
        "        total_val_loss += objective(y_hat_val, y.cuda()).item()\n",
        "      validations.append(total_val_loss/len(val_loader))\n",
        "      val_accuracies.append((y_hat_val.argmax(1) == y.cuda()).float().mean())\n",
        "\n",
        "      # val = np.mean([objective(model(x.cuda()), y.cuda()).item() for x, y in val_loader])\n",
        "      # validations.append((len(losses), val))\n",
        "\n",
        "  loop.close()\n",
        "\n",
        "plt.plot(losses, label='train')\n",
        "plt.plot(validations, label='val')\n",
        "plt.xlabel(\"Time\")\n",
        "plt.ylabel(\"Loss\")\n",
        "plt.title(\"Losses Over Time\")\n",
        "plt.legend()\n",
        "plt.show()"
      ],
      "execution_count": 28,
      "outputs": [
        {
          "output_type": "stream",
          "text": [
            ""
          ],
          "name": "stderr"
        },
        {
          "output_type": "display_data",
          "data": {
            "image/png": "[encoded data removed]",
            "text/plain": [
              "<Figure size 432x288 with 1 Axes>"
            ]
          },
          "metadata": {
            "tags": [],
            "needs_background": "light"
          }
        }
      ]
    },
    {
      "cell_type": "markdown",
      "metadata": {
        "id": "ronkEckHiDaU"
      },
      "source": [
        "\n",
        "___\n",
        "\n",
        "### Part 3\n",
        "Print the number of parameters in your network and plot accuracy of your training and validation \n",
        "set over time. You should experiment with some deep networks and see if you can get a network \n",
        "with close to 1,000,000 parameters.\n",
        "\n",
        "Once you've experimented with multiple network setups and the different initialization strategies, plot the best-performing experiment here. You should be able to exceed 85% accuracy on the validation set.\n",
        "\n",
        "**TODO:**\n",
        "\n",
        "**DONE:**\n",
        "* Experiment with Deep Networks\n",
        "* Plot accuracy of training and validation set over time\n",
        "* Print out number of parameters in the model \n",
        "* Plot experiment results with 85% or better validation accuracy\n"
      ]
    },
    {
      "cell_type": "code",
      "metadata": {
        "collapsed": true,
        "id": "PaWCKjxvyRSf",
        "pycharm": {
          "is_executing": false
        },
        "colab": {
          "base_uri": "https://localhost:8080/",
          "height": 295
        },
        "outputId": "050f8fe2-c14c-4413-cff5-44964e18486c"
      },
      "source": [
        "\n",
        "# Go back up and try a few different networks and initialization strategies\n",
        "# Plot loss if you want\n",
        "# Plot accuracy\n",
        "\n",
        "plt.plot(train_accuracies, label='train')\n",
        "plt.plot(val_accuracies, label='val')\n",
        "plt.xlabel(\"Time\")\n",
        "plt.ylabel(\"Accuracy\")\n",
        "plt.title(\"Accuracies Over Time\")\n",
        "plt.legend()\n",
        "plt.show()\n",
        "\n",
        "# !nvidia-smi"
      ],
      "execution_count": 29,
      "outputs": [
        {
          "output_type": "display_data",
          "data": {
            "image/png": "[encoded data removed]",
            "text/plain": [
              "<Figure size 432x288 with 1 Axes>"
            ]
          },
          "metadata": {
            "tags": [],
            "needs_background": "light"
          }
        }
      ]
    },
    {
      "cell_type": "code",
      "metadata": {
        "collapsed": true,
        "id": "oijCR-JnyS6V",
        "pycharm": {
          "is_executing": false
        },
        "colab": {
          "base_uri": "https://localhost:8080/"
        },
        "outputId": "de5ba296-9f5f-4315-c950-7c89585cc769"
      },
      "source": [
        "# Compute and print the number of parameters in the model\n",
        "sum([np.prod(p.size()) for p in model.parameters()])"
      ],
      "execution_count": 30,
      "outputs": [
        {
          "output_type": "execute_result",
          "data": {
            "text/plain": [
              "1029304"
            ]
          },
          "metadata": {
            "tags": []
          },
          "execution_count": 30
        }
      ]
    },
    {
      "cell_type": "markdown",
      "metadata": {
        "id": "7hXGRxUQh9gX"
      },
      "source": [
        "___\n",
        "\n",
        "### Part 4\n",
        "Learn about how convolution layers affect the shape of outputs, and answer the following quiz questions. Include these in a new markdown cell in your jupyter notebook.\n",
        "\n",
        "\n",
        "*Using a Kernel size of 3×3 what should the settings of your 2d convolution be that results in the following mappings (first answer given to you)*\n",
        "\n",
        "* (c=3, h=10, w=10) ⇒ (c=10, h=8, w=8) : (out_channels=10, kernel_size=(3, 3), padding=(0, 0))\n",
        "* (c=3, h=10, w=10) ⇒ (c=22, h=10, w=10) : **(out_channels=22, kernel_size=(3, 3), padding=(1, 1))**\n",
        "* (c=3, h=10, w=10) ⇒ (c=65, h=12, w=12) : **(out_channels=65, kernel_size=(3, 3), padding=(2, 2))**\n",
        "* (c=3, h=10, w=10) ⇒ (c=7, h=20, w=20) : **(out_channels=7, kernel_size=(3, 3), padding=(6, 6))**\n",
        "\n",
        "*Using a Kernel size of 5×5:*)\n",
        "\n",
        "* (c=3, h=10, w=10) ⇒ (c=10, h=8, w=8) : (out_channels=10, kernel_size=(5, 5), padding=(1, 1))\n",
        "* (c=3, h=10, w=10) ⇒ (c=100, h=10, w=10) : **(out_channels=100, kernel_size=(5, 5), padding=(2, 2))**\n",
        "* (c=3, h=10, w=10) ⇒ (c=23, h=12, w=12) : **(out_channels=23, kernel_size=(5, 5), padding=(3, 3))**\n",
        "* (c=3, h=10, w=10) ⇒ (c=5, h=24, w=24) : **(out_channels=5, kernel_size=(5, 5), padding=(9, 9))**\n",
        "\n",
        "*Using Kernel size of 5×3:*\n",
        "\n",
        "* (c=3, h=10, w=10) ⇒ (c=10, h=8, w=8) : **(out_channels=10, kernel_size=(5, 3), padding=(1, 0))**\n",
        "* (c=3, h=10, w=10) ⇒ (c=100, h=10, w=10) : **(out_channels=100, kernel_size=(5, 3), padding=(2, 1))**\n",
        "* (c=3, h=10, w=10) ⇒ (c=23, h=12, w=12) : **(out_channels=23, kernel_size=(5, 3), padding=(3, 2))**\n",
        "* (c=3, h=10, w=10) ⇒ (c=5, h=24, w=24) : **(out_channels=5, kernel_size=(5, 3), padding=(9, 8))**\n",
        "\n",
        "*Determine the kernel that requires the smallest padding size to make the following mappings possible:*\n",
        "\n",
        "* (c=3, h=10, w=10) ⇒ (c=10, h=9, w=7) : **(out_channels=10, kernel_size=(2, 4), padding=(0, 0))**\n",
        "* (c=3, h=10, w=10) ⇒ (c=22, h=10, w=10) : **(out_channels=22, kernel_size=(1, 1), padding=(0, 0))**\n",
        "\n",
        "**TODO:**\n",
        "\n",
        "**DONE:**\n",
        "\n",
        "* Answer all the questions above \n"
      ]
    },
    {
      "cell_type": "code",
      "metadata": {
        "collapsed": true,
        "id": "XXfG3wClh8an",
        "pycharm": {
          "is_executing": false
        },
        "colab": {
          "base_uri": "https://localhost:8080/"
        },
        "outputId": "55ff8067-7187-4c54-af81-15fe1904614b"
      },
      "source": [
        "# Write some test code for checking the answers for these problems (example shown in the video)\n",
        "c = nn.Conv2d(3, out_channels=22, kernel_size=(1, 1), padding=(0,0))\n",
        "c(torch.zeros(1, 3, 10, 10)).size()\n"
      ],
      "execution_count": 31,
      "outputs": [
        {
          "output_type": "execute_result",
          "data": {
            "text/plain": [
              "torch.Size([1, 22, 10, 10])"
            ]
          },
          "metadata": {
            "tags": []
          },
          "execution_count": 31
        }
      ]
    }
  ]
}